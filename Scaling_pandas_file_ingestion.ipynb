{
  "nbformat": 4,
  "nbformat_minor": 0,
  "metadata": {
    "colab": {
      "name": "Scaling pandas: file ingestion.ipynb",
      "provenance": []
    },
    "kernelspec": {
      "name": "python3",
      "display_name": "Python 3"
    },
    "language_info": {
      "name": "python"
    }
  },
  "cells": [
    {
      "cell_type": "code",
      "metadata": {
        "id": "VYKW3R2TU8KI",
        "colab": {
          "base_uri": "https://localhost:8080/"
        },
        "outputId": "b5eb3e64-6a4f-4a9b-b070-7bcae1935e0c"
      },
      "source": [
        "!pip install \"dask[complete]\""
      ],
      "execution_count": 4,
      "outputs": [
        {
          "output_type": "stream",
          "text": [
            "Requirement already satisfied: dask[complete] in /usr/local/lib/python3.7/dist-packages (2.12.0)\n",
            "Requirement already satisfied: PyYaml; extra == \"complete\" in /usr/local/lib/python3.7/dist-packages (from dask[complete]) (3.13)\n",
            "Requirement already satisfied: toolz>=0.7.3; extra == \"complete\" in /usr/local/lib/python3.7/dist-packages (from dask[complete]) (0.11.1)\n",
            "Requirement already satisfied: distributed>=2.0; extra == \"complete\" in /usr/local/lib/python3.7/dist-packages (from dask[complete]) (2021.4.0)\n",
            "Requirement already satisfied: cloudpickle>=0.2.1; extra == \"complete\" in /usr/local/lib/python3.7/dist-packages (from dask[complete]) (1.3.0)\n",
            "Requirement already satisfied: partd>=0.3.10; extra == \"complete\" in /usr/local/lib/python3.7/dist-packages (from dask[complete]) (1.2.0)\n",
            "Requirement already satisfied: pandas>=0.23.0; extra == \"complete\" in /usr/local/lib/python3.7/dist-packages (from dask[complete]) (1.1.5)\n",
            "Requirement already satisfied: fsspec>=0.6.0; extra == \"complete\" in /usr/local/lib/python3.7/dist-packages (from dask[complete]) (0.9.0)\n",
            "Requirement already satisfied: bokeh>=1.0.0; extra == \"complete\" in /usr/local/lib/python3.7/dist-packages (from dask[complete]) (2.3.0)\n",
            "Requirement already satisfied: numpy>=1.13.0; extra == \"complete\" in /usr/local/lib/python3.7/dist-packages (from dask[complete]) (1.19.5)\n",
            "Requirement already satisfied: msgpack>=0.6.0 in /usr/local/lib/python3.7/dist-packages (from distributed>=2.0; extra == \"complete\"->dask[complete]) (1.0.2)\n",
            "Requirement already satisfied: psutil>=5.0 in /usr/local/lib/python3.7/dist-packages (from distributed>=2.0; extra == \"complete\"->dask[complete]) (5.4.8)\n",
            "Requirement already satisfied: sortedcontainers!=2.0.0,!=2.0.1 in /usr/local/lib/python3.7/dist-packages (from distributed>=2.0; extra == \"complete\"->dask[complete]) (2.3.0)\n",
            "Requirement already satisfied: zict>=0.1.3 in /usr/local/lib/python3.7/dist-packages (from distributed>=2.0; extra == \"complete\"->dask[complete]) (2.0.0)\n",
            "Requirement already satisfied: click>=6.6 in /usr/local/lib/python3.7/dist-packages (from distributed>=2.0; extra == \"complete\"->dask[complete]) (7.1.2)\n",
            "Requirement already satisfied: tornado>=5; python_version < \"3.8\" in /usr/local/lib/python3.7/dist-packages (from distributed>=2.0; extra == \"complete\"->dask[complete]) (5.1.1)\n",
            "Requirement already satisfied: tblib>=1.6.0 in /usr/local/lib/python3.7/dist-packages (from distributed>=2.0; extra == \"complete\"->dask[complete]) (1.7.0)\n",
            "Requirement already satisfied: setuptools in /usr/local/lib/python3.7/dist-packages (from distributed>=2.0; extra == \"complete\"->dask[complete]) (54.2.0)\n",
            "Requirement already satisfied: locket in /usr/local/lib/python3.7/dist-packages (from partd>=0.3.10; extra == \"complete\"->dask[complete]) (0.2.1)\n",
            "Requirement already satisfied: python-dateutil>=2.7.3 in /usr/local/lib/python3.7/dist-packages (from pandas>=0.23.0; extra == \"complete\"->dask[complete]) (2.8.1)\n",
            "Requirement already satisfied: pytz>=2017.2 in /usr/local/lib/python3.7/dist-packages (from pandas>=0.23.0; extra == \"complete\"->dask[complete]) (2018.9)\n",
            "Requirement already satisfied: importlib-metadata; python_version < \"3.8\" in /usr/local/lib/python3.7/dist-packages (from fsspec>=0.6.0; extra == \"complete\"->dask[complete]) (3.8.1)\n",
            "Requirement already satisfied: pillow>=7.1.0 in /usr/local/lib/python3.7/dist-packages (from bokeh>=1.0.0; extra == \"complete\"->dask[complete]) (7.1.2)\n",
            "Requirement already satisfied: Jinja2>=2.7 in /usr/local/lib/python3.7/dist-packages (from bokeh>=1.0.0; extra == \"complete\"->dask[complete]) (2.11.3)\n",
            "Requirement already satisfied: packaging>=16.8 in /usr/local/lib/python3.7/dist-packages (from bokeh>=1.0.0; extra == \"complete\"->dask[complete]) (20.9)\n",
            "Requirement already satisfied: typing-extensions>=3.7.4 in /usr/local/lib/python3.7/dist-packages (from bokeh>=1.0.0; extra == \"complete\"->dask[complete]) (3.7.4.3)\n",
            "Requirement already satisfied: heapdict in /usr/local/lib/python3.7/dist-packages (from zict>=0.1.3->distributed>=2.0; extra == \"complete\"->dask[complete]) (1.0.1)\n",
            "Requirement already satisfied: six>=1.5 in /usr/local/lib/python3.7/dist-packages (from python-dateutil>=2.7.3->pandas>=0.23.0; extra == \"complete\"->dask[complete]) (1.15.0)\n",
            "Requirement already satisfied: zipp>=0.5 in /usr/local/lib/python3.7/dist-packages (from importlib-metadata; python_version < \"3.8\"->fsspec>=0.6.0; extra == \"complete\"->dask[complete]) (3.4.1)\n",
            "Requirement already satisfied: MarkupSafe>=0.23 in /usr/local/lib/python3.7/dist-packages (from Jinja2>=2.7->bokeh>=1.0.0; extra == \"complete\"->dask[complete]) (1.1.1)\n",
            "Requirement already satisfied: pyparsing>=2.0.2 in /usr/local/lib/python3.7/dist-packages (from packaging>=16.8->bokeh>=1.0.0; extra == \"complete\"->dask[complete]) (2.4.7)\n"
          ],
          "name": "stdout"
        }
      ]
    },
    {
      "cell_type": "markdown",
      "metadata": {
        "id": "WZs3iRY9Gpqo"
      },
      "source": [
        "# Week 6 assigment"
      ]
    },
    {
      "cell_type": "markdown",
      "metadata": {
        "id": "XPy4qrbtZdRU"
      },
      "source": [
        "Dataset used can be found at https://www.kaggle.com/mkechinov/ecommerce-behavior-data-from-multi-category-store\n",
        "\n",
        "This data base contains behavior data for 2 months (October 2019 and November 2019) from a large multi-category online store.\n",
        "\n",
        "Each line in the file represents one event. All events are related to products and users. Each event is like a many-to-many relationship between products and users.\n",
        "\n",
        "Due to the size of the base, we will analyze in this notebook only the month of October."
      ]
    },
    {
      "cell_type": "markdown",
      "metadata": {
        "id": "oCeNSVsqttUg"
      },
      "source": [
        "\n",
        "Data Description\n",
        "\n",
        "    event_time: Time when the event happened (in UTC).\n",
        "    event_type: Represents the type of event.\n",
        "    product_id: ID of a product\n",
        "    category_id: Product category ID\n",
        "    category_code: Taxonomy of the product category (codename), if possible. Usually present for meaningful categories and ignored for different types of accessories.\n",
        "    brand: String of characters with the brand name.\n",
        "    price: Floating price of a product. Present.\n",
        "    user_id: Permanent user ID.\n",
        "    user_session: Temporary user session ID. The same for each user session. It is changed every time the user returns to the online store after a long break.\n",
        "\n",
        "Events can be:\n",
        "\n",
        "    view: a user viewed a product\n",
        "    cart: a user added a product to the cart\n",
        "    remove_from_cart: a user removed a product from the shopping cart\n",
        "    purchase: a user bought a product.\n",
        "\n"
      ]
    },
    {
      "cell_type": "code",
      "metadata": {
        "id": "k5GL3A-NTE7i"
      },
      "source": [
        "import dask\n",
        "import dask.dataframe as dd"
      ],
      "execution_count": 5,
      "outputs": []
    },
    {
      "cell_type": "code",
      "metadata": {
        "id": "CLqZUmHIHfik"
      },
      "source": [
        "import os\n",
        "import gc\n",
        "import time\n",
        "import pandas as pd"
      ],
      "execution_count": 6,
      "outputs": []
    },
    {
      "cell_type": "code",
      "metadata": {
        "colab": {
          "base_uri": "https://localhost:8080/"
        },
        "id": "Nbc60MLOhol7",
        "outputId": "ee801865-a805-4797-d986-3c9926a816b1"
      },
      "source": [
        "begin = time.time()\n",
        "df_pandas = pd.read_csv(\"/content/drive/MyDrive/Data Glacier/Datasets/2019-Nov.csv\")\n",
        "\n",
        "end = time.time()\n",
        "pandas_time = end - begin\n",
        "# total time taken\n",
        "print(f\"Total runtime of the program is {end - begin}\")"
      ],
      "execution_count": 7,
      "outputs": [
        {
          "output_type": "stream",
          "text": [
            "Total runtime of the program is 227.8663010597229\n"
          ],
          "name": "stdout"
        }
      ]
    },
    {
      "cell_type": "code",
      "metadata": {
        "colab": {
          "base_uri": "https://localhost:8080/",
          "height": 435
        },
        "id": "xx8Xvenchooh",
        "outputId": "7bc12d48-4d3e-4eb8-a5bf-133aaa983267"
      },
      "source": [
        "%%time\n",
        "df_pandas.head()"
      ],
      "execution_count": 8,
      "outputs": [
        {
          "output_type": "stream",
          "text": [
            "CPU times: user 339 µs, sys: 84 µs, total: 423 µs\n",
            "Wall time: 428 µs\n"
          ],
          "name": "stdout"
        },
        {
          "output_type": "execute_result",
          "data": {
            "text/html": [
              "<div>\n",
              "<style scoped>\n",
              "    .dataframe tbody tr th:only-of-type {\n",
              "        vertical-align: middle;\n",
              "    }\n",
              "\n",
              "    .dataframe tbody tr th {\n",
              "        vertical-align: top;\n",
              "    }\n",
              "\n",
              "    .dataframe thead th {\n",
              "        text-align: right;\n",
              "    }\n",
              "</style>\n",
              "<table border=\"1\" class=\"dataframe\">\n",
              "  <thead>\n",
              "    <tr style=\"text-align: right;\">\n",
              "      <th></th>\n",
              "      <th>event_time</th>\n",
              "      <th>event_type</th>\n",
              "      <th>product_id</th>\n",
              "      <th>category_id</th>\n",
              "      <th>category_code</th>\n",
              "      <th>brand</th>\n",
              "      <th>price</th>\n",
              "      <th>user_id</th>\n",
              "      <th>user_session</th>\n",
              "    </tr>\n",
              "  </thead>\n",
              "  <tbody>\n",
              "    <tr>\n",
              "      <th>0</th>\n",
              "      <td>2019-11-01 00:00:00 UTC</td>\n",
              "      <td>view</td>\n",
              "      <td>1003461</td>\n",
              "      <td>2053013555631882655</td>\n",
              "      <td>electronics.smartphone</td>\n",
              "      <td>xiaomi</td>\n",
              "      <td>489.07</td>\n",
              "      <td>520088904</td>\n",
              "      <td>4d3b30da-a5e4-49df-b1a8-ba5943f1dd33</td>\n",
              "    </tr>\n",
              "    <tr>\n",
              "      <th>1</th>\n",
              "      <td>2019-11-01 00:00:00 UTC</td>\n",
              "      <td>view</td>\n",
              "      <td>5000088</td>\n",
              "      <td>2053013566100866035</td>\n",
              "      <td>appliances.sewing_machine</td>\n",
              "      <td>janome</td>\n",
              "      <td>293.65</td>\n",
              "      <td>530496790</td>\n",
              "      <td>8e5f4f83-366c-4f70-860e-ca7417414283</td>\n",
              "    </tr>\n",
              "    <tr>\n",
              "      <th>2</th>\n",
              "      <td>2019-11-01 00:00:01 UTC</td>\n",
              "      <td>view</td>\n",
              "      <td>17302664</td>\n",
              "      <td>2053013553853497655</td>\n",
              "      <td>NaN</td>\n",
              "      <td>creed</td>\n",
              "      <td>28.31</td>\n",
              "      <td>561587266</td>\n",
              "      <td>755422e7-9040-477b-9bd2-6a6e8fd97387</td>\n",
              "    </tr>\n",
              "    <tr>\n",
              "      <th>3</th>\n",
              "      <td>2019-11-01 00:00:01 UTC</td>\n",
              "      <td>view</td>\n",
              "      <td>3601530</td>\n",
              "      <td>2053013563810775923</td>\n",
              "      <td>appliances.kitchen.washer</td>\n",
              "      <td>lg</td>\n",
              "      <td>712.87</td>\n",
              "      <td>518085591</td>\n",
              "      <td>3bfb58cd-7892-48cc-8020-2f17e6de6e7f</td>\n",
              "    </tr>\n",
              "    <tr>\n",
              "      <th>4</th>\n",
              "      <td>2019-11-01 00:00:01 UTC</td>\n",
              "      <td>view</td>\n",
              "      <td>1004775</td>\n",
              "      <td>2053013555631882655</td>\n",
              "      <td>electronics.smartphone</td>\n",
              "      <td>xiaomi</td>\n",
              "      <td>183.27</td>\n",
              "      <td>558856683</td>\n",
              "      <td>313628f1-68b8-460d-84f6-cec7a8796ef2</td>\n",
              "    </tr>\n",
              "  </tbody>\n",
              "</table>\n",
              "</div>"
            ],
            "text/plain": [
              "                event_time  ...                          user_session\n",
              "0  2019-11-01 00:00:00 UTC  ...  4d3b30da-a5e4-49df-b1a8-ba5943f1dd33\n",
              "1  2019-11-01 00:00:00 UTC  ...  8e5f4f83-366c-4f70-860e-ca7417414283\n",
              "2  2019-11-01 00:00:01 UTC  ...  755422e7-9040-477b-9bd2-6a6e8fd97387\n",
              "3  2019-11-01 00:00:01 UTC  ...  3bfb58cd-7892-48cc-8020-2f17e6de6e7f\n",
              "4  2019-11-01 00:00:01 UTC  ...  313628f1-68b8-460d-84f6-cec7a8796ef2\n",
              "\n",
              "[5 rows x 9 columns]"
            ]
          },
          "metadata": {
            "tags": []
          },
          "execution_count": 8
        }
      ]
    },
    {
      "cell_type": "code",
      "metadata": {
        "colab": {
          "base_uri": "https://localhost:8080/"
        },
        "id": "5s1MwBdSjHnq",
        "outputId": "66bc3246-b176-4c8a-a6e7-aea9bdb26d94"
      },
      "source": [
        "pandas_mem = df_pandas.memory_usage().sum()/1024**2\n",
        "print(f\"Memory usage by pandas: {pandas_mem:.2f} MB\")"
      ],
      "execution_count": 9,
      "outputs": [
        {
          "output_type": "stream",
          "text": [
            "Memory usage by pandas: 4634.99 MB\n"
          ],
          "name": "stdout"
        }
      ]
    },
    {
      "cell_type": "code",
      "metadata": {
        "colab": {
          "base_uri": "https://localhost:8080/"
        },
        "id": "mOZ0PC4CCe6U",
        "outputId": "da29f6d0-63af-4190-bf6d-6e3e73f476a6"
      },
      "source": [
        "%%time\n",
        "df_pandas.isnull().sum()"
      ],
      "execution_count": 10,
      "outputs": [
        {
          "output_type": "stream",
          "text": [
            "CPU times: user 14.2 s, sys: 1.51 s, total: 15.7 s\n",
            "Wall time: 15.8 s\n"
          ],
          "name": "stdout"
        },
        {
          "output_type": "execute_result",
          "data": {
            "text/plain": [
              "event_time              0\n",
              "event_type              0\n",
              "product_id              0\n",
              "category_id             0\n",
              "category_code    21898171\n",
              "brand             9224078\n",
              "price                   0\n",
              "user_id                 0\n",
              "user_session           10\n",
              "dtype: int64"
            ]
          },
          "metadata": {
            "tags": []
          },
          "execution_count": 10
        }
      ]
    },
    {
      "cell_type": "code",
      "metadata": {
        "colab": {
          "base_uri": "https://localhost:8080/"
        },
        "id": "mi_aGjghi_0o",
        "outputId": "99c135d3-a1ca-4da4-9ada-b194c4a346d2"
      },
      "source": [
        "del df_pandas\n",
        "gc.collect()"
      ],
      "execution_count": 11,
      "outputs": [
        {
          "output_type": "execute_result",
          "data": {
            "text/plain": [
              "208"
            ]
          },
          "metadata": {
            "tags": []
          },
          "execution_count": 11
        }
      ]
    },
    {
      "cell_type": "code",
      "metadata": {
        "colab": {
          "base_uri": "https://localhost:8080/"
        },
        "id": "hIj1zjz0Lu1e",
        "outputId": "f2075478-dc35-4f3b-ba89-f938ce62dd44"
      },
      "source": [
        "begin = time.time()\n",
        "% time df_dask = dd.read_csv(\"/content/drive/MyDrive/Data Glacier/Datasets/2019-Nov.csv\")\n",
        "end = time.time()\n",
        "\n",
        "dask_time = end - begin\n",
        "# total time taken\n",
        "print(f\"Total runtime of the program is {end - begin}\")"
      ],
      "execution_count": 12,
      "outputs": [
        {
          "output_type": "stream",
          "text": [
            "CPU times: user 86.3 ms, sys: 176 ms, total: 263 ms\n",
            "Wall time: 279 ms\n",
            "Total runtime of the program is 0.28266167640686035\n"
          ],
          "name": "stdout"
        }
      ]
    },
    {
      "cell_type": "code",
      "metadata": {
        "colab": {
          "base_uri": "https://localhost:8080/",
          "height": 435
        },
        "id": "KgzGBdRNvBtq",
        "outputId": "bbf32a7b-fa45-46a9-aeba-a8ff19276418"
      },
      "source": [
        "%time\n",
        "df_dask.head()"
      ],
      "execution_count": 13,
      "outputs": [
        {
          "output_type": "stream",
          "text": [
            "CPU times: user 6 µs, sys: 1e+03 ns, total: 7 µs\n",
            "Wall time: 11.2 µs\n"
          ],
          "name": "stdout"
        },
        {
          "output_type": "execute_result",
          "data": {
            "text/html": [
              "<div>\n",
              "<style scoped>\n",
              "    .dataframe tbody tr th:only-of-type {\n",
              "        vertical-align: middle;\n",
              "    }\n",
              "\n",
              "    .dataframe tbody tr th {\n",
              "        vertical-align: top;\n",
              "    }\n",
              "\n",
              "    .dataframe thead th {\n",
              "        text-align: right;\n",
              "    }\n",
              "</style>\n",
              "<table border=\"1\" class=\"dataframe\">\n",
              "  <thead>\n",
              "    <tr style=\"text-align: right;\">\n",
              "      <th></th>\n",
              "      <th>event_time</th>\n",
              "      <th>event_type</th>\n",
              "      <th>product_id</th>\n",
              "      <th>category_id</th>\n",
              "      <th>category_code</th>\n",
              "      <th>brand</th>\n",
              "      <th>price</th>\n",
              "      <th>user_id</th>\n",
              "      <th>user_session</th>\n",
              "    </tr>\n",
              "  </thead>\n",
              "  <tbody>\n",
              "    <tr>\n",
              "      <th>0</th>\n",
              "      <td>2019-11-01 00:00:00 UTC</td>\n",
              "      <td>view</td>\n",
              "      <td>1003461</td>\n",
              "      <td>2053013555631882655</td>\n",
              "      <td>electronics.smartphone</td>\n",
              "      <td>xiaomi</td>\n",
              "      <td>489.07</td>\n",
              "      <td>520088904</td>\n",
              "      <td>4d3b30da-a5e4-49df-b1a8-ba5943f1dd33</td>\n",
              "    </tr>\n",
              "    <tr>\n",
              "      <th>1</th>\n",
              "      <td>2019-11-01 00:00:00 UTC</td>\n",
              "      <td>view</td>\n",
              "      <td>5000088</td>\n",
              "      <td>2053013566100866035</td>\n",
              "      <td>appliances.sewing_machine</td>\n",
              "      <td>janome</td>\n",
              "      <td>293.65</td>\n",
              "      <td>530496790</td>\n",
              "      <td>8e5f4f83-366c-4f70-860e-ca7417414283</td>\n",
              "    </tr>\n",
              "    <tr>\n",
              "      <th>2</th>\n",
              "      <td>2019-11-01 00:00:01 UTC</td>\n",
              "      <td>view</td>\n",
              "      <td>17302664</td>\n",
              "      <td>2053013553853497655</td>\n",
              "      <td>NaN</td>\n",
              "      <td>creed</td>\n",
              "      <td>28.31</td>\n",
              "      <td>561587266</td>\n",
              "      <td>755422e7-9040-477b-9bd2-6a6e8fd97387</td>\n",
              "    </tr>\n",
              "    <tr>\n",
              "      <th>3</th>\n",
              "      <td>2019-11-01 00:00:01 UTC</td>\n",
              "      <td>view</td>\n",
              "      <td>3601530</td>\n",
              "      <td>2053013563810775923</td>\n",
              "      <td>appliances.kitchen.washer</td>\n",
              "      <td>lg</td>\n",
              "      <td>712.87</td>\n",
              "      <td>518085591</td>\n",
              "      <td>3bfb58cd-7892-48cc-8020-2f17e6de6e7f</td>\n",
              "    </tr>\n",
              "    <tr>\n",
              "      <th>4</th>\n",
              "      <td>2019-11-01 00:00:01 UTC</td>\n",
              "      <td>view</td>\n",
              "      <td>1004775</td>\n",
              "      <td>2053013555631882655</td>\n",
              "      <td>electronics.smartphone</td>\n",
              "      <td>xiaomi</td>\n",
              "      <td>183.27</td>\n",
              "      <td>558856683</td>\n",
              "      <td>313628f1-68b8-460d-84f6-cec7a8796ef2</td>\n",
              "    </tr>\n",
              "  </tbody>\n",
              "</table>\n",
              "</div>"
            ],
            "text/plain": [
              "                event_time  ...                          user_session\n",
              "0  2019-11-01 00:00:00 UTC  ...  4d3b30da-a5e4-49df-b1a8-ba5943f1dd33\n",
              "1  2019-11-01 00:00:00 UTC  ...  8e5f4f83-366c-4f70-860e-ca7417414283\n",
              "2  2019-11-01 00:00:01 UTC  ...  755422e7-9040-477b-9bd2-6a6e8fd97387\n",
              "3  2019-11-01 00:00:01 UTC  ...  3bfb58cd-7892-48cc-8020-2f17e6de6e7f\n",
              "4  2019-11-01 00:00:01 UTC  ...  313628f1-68b8-460d-84f6-cec7a8796ef2\n",
              "\n",
              "[5 rows x 9 columns]"
            ]
          },
          "metadata": {
            "tags": []
          },
          "execution_count": 13
        }
      ]
    },
    {
      "cell_type": "code",
      "metadata": {
        "colab": {
          "base_uri": "https://localhost:8080/"
        },
        "id": "i3VJenhukXZR",
        "outputId": "420bb20f-8de6-4290-a9eb-19255f4f10e1"
      },
      "source": [
        "dask_mem = df_dask.memory_usage().sum()/1024**2\n",
        "print(f\"Memory usage by dask: {dask_mem.compute():.2f} MB\")"
      ],
      "execution_count": 14,
      "outputs": [
        {
          "output_type": "stream",
          "text": [
            "Memory usage by dask: 4635.01 MB\n"
          ],
          "name": "stdout"
        }
      ]
    },
    {
      "cell_type": "code",
      "metadata": {
        "id": "g0Eckh2HpKDg",
        "colab": {
          "base_uri": "https://localhost:8080/"
        },
        "outputId": "e513f659-6049-46e9-b85e-000f32090b22"
      },
      "source": [
        "%%time\n",
        "df_dask.isnull().sum().compute()"
      ],
      "execution_count": 15,
      "outputs": [
        {
          "output_type": "stream",
          "text": [
            "CPU times: user 2min 42s, sys: 11.8 s, total: 2min 53s\n",
            "Wall time: 3min 3s\n"
          ],
          "name": "stdout"
        },
        {
          "output_type": "execute_result",
          "data": {
            "text/plain": [
              "event_time              0\n",
              "event_type              0\n",
              "product_id              0\n",
              "category_id             0\n",
              "category_code    21898171\n",
              "brand             9224078\n",
              "price                   0\n",
              "user_id                 0\n",
              "user_session           10\n",
              "dtype: int64"
            ]
          },
          "metadata": {
            "tags": []
          },
          "execution_count": 15
        }
      ]
    },
    {
      "cell_type": "code",
      "metadata": {
        "id": "Nokb2POsrcJl",
        "colab": {
          "base_uri": "https://localhost:8080/"
        },
        "outputId": "3d58dd09-5bcb-4cbb-cb76-5664e9b045ab"
      },
      "source": [
        "del df_dask\n",
        "gc.collect()"
      ],
      "execution_count": 16,
      "outputs": [
        {
          "output_type": "execute_result",
          "data": {
            "text/plain": [
              "52"
            ]
          },
          "metadata": {
            "tags": []
          },
          "execution_count": 16
        }
      ]
    },
    {
      "cell_type": "markdown",
      "metadata": {
        "id": "Ddhzf9p5v8W4"
      },
      "source": [
        "## Data ingestion task"
      ]
    },
    {
      "cell_type": "code",
      "metadata": {
        "colab": {
          "base_uri": "https://localhost:8080/"
        },
        "id": "ycaCdiDzv7Z_",
        "outputId": "866e4237-b4ae-46ef-dd3e-cdc4f695044e"
      },
      "source": [
        "%%writefile testutility.py\n",
        "import logging\n",
        "import os\n",
        "import subprocess\n",
        "import yaml\n",
        "import pandas as pd\n",
        "import datetime \n",
        "import gc\n",
        "import re\n",
        "\n",
        "\n",
        "################\n",
        "# File Reading #\n",
        "################\n",
        "\n",
        "def read_config_file(filepath):\n",
        "    with open(filepath, 'r') as stream:\n",
        "        try:\n",
        "            return yaml.safe_load(stream)\n",
        "        except yaml.YAMLError as exc:\n",
        "            logging.error(exc)\n",
        "\n",
        "\n",
        "def replacer(string, char):\n",
        "    pattern = char + '{2,}'\n",
        "    string = re.sub(pattern, char, string) \n",
        "    return string\n",
        "\n",
        "def col_header_val(df,table_config):\n",
        "    '''\n",
        "    replace whitespaces in the column\n",
        "    and standardized column names\n",
        "    '''\n",
        "    df.columns = df.columns.str.lower()\n",
        "    df.columns = df.columns.str.replace('[^\\w]','_',regex=True)\n",
        "    df.columns = list(map(lambda x: x.strip('_'), list(df.columns)))\n",
        "    df.columns = list(map(lambda x: replacer(x,'_'), list(df.columns)))\n",
        "    expected_col = list(map(lambda x: x.lower(),  table_config['columns']))\n",
        "    expected_col.sort()\n",
        "    df.columns =list(map(lambda x: x.lower(), list(df.columns)))\n",
        "    df = df.reindex(sorted(df.columns), axis=1)\n",
        "    if len(df.columns) == len(expected_col) and list(expected_col)  == list(df.columns):\n",
        "        print(\"column name and column length validation passed\")\n",
        "        return 1\n",
        "    else:\n",
        "        print(\"column name and column length validation failed\")\n",
        "        mismatched_columns_file = list(set(df.columns).difference(expected_col))\n",
        "        print(\"Following File columns are not in the YAML file\",mismatched_columns_file)\n",
        "        missing_YAML_file = list(set(expected_col).difference(df.columns))\n",
        "        print(\"Following YAML columns are not in the file uploaded\",missing_YAML_file)\n",
        "        logging.info(f'df columns: {df.columns}')\n",
        "        logging.info(f'expected columns: {expected_col}')\n",
        "        return 0"
      ],
      "execution_count": 17,
      "outputs": [
        {
          "output_type": "stream",
          "text": [
            "Overwriting testutility.py\n"
          ],
          "name": "stdout"
        }
      ]
    },
    {
      "cell_type": "markdown",
      "metadata": {
        "id": "btc0pw0AGLwC"
      },
      "source": [
        "Writting YAML file"
      ]
    },
    {
      "cell_type": "markdown",
      "metadata": {
        "id": "fnyjNcnCGVwD"
      },
      "source": [
        "event_time: \n",
        "event_type: \n",
        "product_id: \n",
        "category_id:\n",
        "category_code: \n",
        "brand: \n",
        "price: \n",
        "user_id: \n",
        "user_session: "
      ]
    },
    {
      "cell_type": "code",
      "metadata": {
        "colab": {
          "base_uri": "https://localhost:8080/"
        },
        "id": "qnbjKx4LmaB7",
        "outputId": "31b9856c-fc83-4de2-ec99-765a74d3be57"
      },
      "source": [
        "%%writefile file.yaml\n",
        "file_type: csv\n",
        "data_directory: /content/drive/MyDrive/Data Glacier/Datasets/\n",
        "dataset_name: test\n",
        "file_name: 2019-Nov\n",
        "inbound_delimiter: \",\"\n",
        "outbound_delimiter: \"|\"\n",
        "columns_names: ['event_time','event_type','product_id','category_id','category_code','brand','price','user_id', 'user_session']\n",
        "drop_columns: ['category_code', 'brand']\n",
        "data_type:\n",
        "  event_time: datetime64[ns]\n",
        "  event_type: object\n",
        "  product_id: int16\n",
        "  category_id: int16\n",
        "  category_code: object\n",
        "  brand: object\n",
        "  price: float32\n",
        "  user_id: int16\n",
        "  user_session: object\n",
        "columns: \n",
        "    - event_time\n",
        "    - event_type\n",
        "    - product_id\n",
        "    - category_id\n",
        "    - category_code\n",
        "    - brand\n",
        "    - price\n",
        "    - user_id\n",
        "    - user_session\n",
        "clean_data: data_clean.csv"
      ],
      "execution_count": 26,
      "outputs": [
        {
          "output_type": "stream",
          "text": [
            "Overwriting file.yaml\n"
          ],
          "name": "stdout"
        }
      ]
    },
    {
      "cell_type": "code",
      "metadata": {
        "id": "rHjb5A7cGw7W"
      },
      "source": [
        "# Read config file\n",
        "import testutility as util\n",
        "config_data = util.read_config_file(\"file.yaml\")"
      ],
      "execution_count": 27,
      "outputs": []
    },
    {
      "cell_type": "code",
      "metadata": {
        "colab": {
          "base_uri": "https://localhost:8080/"
        },
        "id": "5CRDOaawnEKf",
        "outputId": "6c40632c-44bc-4ebf-d8ab-4c3f129dea1c"
      },
      "source": [
        "config_data"
      ],
      "execution_count": 31,
      "outputs": [
        {
          "output_type": "execute_result",
          "data": {
            "text/plain": [
              "{'clean_data': 'data_clean.csv',\n",
              " 'columns': ['event_time',\n",
              "  'event_type',\n",
              "  'product_id',\n",
              "  'category_id',\n",
              "  'category_code',\n",
              "  'brand',\n",
              "  'price',\n",
              "  'user_id',\n",
              "  'user_session'],\n",
              " 'columns_names': ['event_time',\n",
              "  'event_type',\n",
              "  'product_id',\n",
              "  'category_id',\n",
              "  'category_code',\n",
              "  'brand',\n",
              "  'price',\n",
              "  'user_id',\n",
              "  'user_session'],\n",
              " 'data_directory': '/content/drive/MyDrive/Data Glacier/Datasets/',\n",
              " 'data_type': {'brand': 'object',\n",
              "  'category_code': 'object',\n",
              "  'category_id': 'int16',\n",
              "  'event_time': 'datetime64[ns]',\n",
              "  'event_type': 'object',\n",
              "  'price': 'float32',\n",
              "  'product_id': 'int16',\n",
              "  'user_id': 'int16',\n",
              "  'user_session': 'object'},\n",
              " 'dataset_name': 'test',\n",
              " 'drop_columns': ['category_code', 'brand'],\n",
              " 'file_name': '2019-Nov',\n",
              " 'file_type': 'csv',\n",
              " 'inbound_delimiter': ',',\n",
              " 'outbound_delimiter': '|'}"
            ]
          },
          "metadata": {
            "tags": []
          },
          "execution_count": 31
        }
      ]
    },
    {
      "cell_type": "code",
      "metadata": {
        "id": "J2iKi81_Hgjt"
      },
      "source": [
        "# read the file using config file\n",
        "filepath = \"/content/drive/MyDrive/Data Glacier/Datasets/2019-Nov.csv\"\n",
        "file_type = config_data['file_type']\n",
        "source_file = \"/content/drive/MyDrive/Data Glacier/Datasets/\" + config_data['file_name'] + f'.{file_type}'\n"
      ],
      "execution_count": 28,
      "outputs": []
    },
    {
      "cell_type": "code",
      "metadata": {
        "colab": {
          "base_uri": "https://localhost:8080/",
          "height": 292
        },
        "id": "peOpf3AFfTSY",
        "outputId": "9b91dc29-6584-4545-a01d-2af227ab0e91"
      },
      "source": [
        "df = dd.read_csv(source_file)\n",
        "df"
      ],
      "execution_count": 29,
      "outputs": [
        {
          "output_type": "execute_result",
          "data": {
            "text/html": [
              "<div><strong>Dask DataFrame Structure:</strong></div>\n",
              "<div>\n",
              "<style scoped>\n",
              "    .dataframe tbody tr th:only-of-type {\n",
              "        vertical-align: middle;\n",
              "    }\n",
              "\n",
              "    .dataframe tbody tr th {\n",
              "        vertical-align: top;\n",
              "    }\n",
              "\n",
              "    .dataframe thead th {\n",
              "        text-align: right;\n",
              "    }\n",
              "</style>\n",
              "<table border=\"1\" class=\"dataframe\">\n",
              "  <thead>\n",
              "    <tr style=\"text-align: right;\">\n",
              "      <th></th>\n",
              "      <th>event_time</th>\n",
              "      <th>event_type</th>\n",
              "      <th>product_id</th>\n",
              "      <th>category_id</th>\n",
              "      <th>category_code</th>\n",
              "      <th>brand</th>\n",
              "      <th>price</th>\n",
              "      <th>user_id</th>\n",
              "      <th>user_session</th>\n",
              "    </tr>\n",
              "    <tr>\n",
              "      <th>npartitions=141</th>\n",
              "      <th></th>\n",
              "      <th></th>\n",
              "      <th></th>\n",
              "      <th></th>\n",
              "      <th></th>\n",
              "      <th></th>\n",
              "      <th></th>\n",
              "      <th></th>\n",
              "      <th></th>\n",
              "    </tr>\n",
              "  </thead>\n",
              "  <tbody>\n",
              "    <tr>\n",
              "      <th></th>\n",
              "      <td>object</td>\n",
              "      <td>object</td>\n",
              "      <td>int64</td>\n",
              "      <td>int64</td>\n",
              "      <td>object</td>\n",
              "      <td>object</td>\n",
              "      <td>float64</td>\n",
              "      <td>int64</td>\n",
              "      <td>object</td>\n",
              "    </tr>\n",
              "    <tr>\n",
              "      <th></th>\n",
              "      <td>...</td>\n",
              "      <td>...</td>\n",
              "      <td>...</td>\n",
              "      <td>...</td>\n",
              "      <td>...</td>\n",
              "      <td>...</td>\n",
              "      <td>...</td>\n",
              "      <td>...</td>\n",
              "      <td>...</td>\n",
              "    </tr>\n",
              "    <tr>\n",
              "      <th>...</th>\n",
              "      <td>...</td>\n",
              "      <td>...</td>\n",
              "      <td>...</td>\n",
              "      <td>...</td>\n",
              "      <td>...</td>\n",
              "      <td>...</td>\n",
              "      <td>...</td>\n",
              "      <td>...</td>\n",
              "      <td>...</td>\n",
              "    </tr>\n",
              "    <tr>\n",
              "      <th></th>\n",
              "      <td>...</td>\n",
              "      <td>...</td>\n",
              "      <td>...</td>\n",
              "      <td>...</td>\n",
              "      <td>...</td>\n",
              "      <td>...</td>\n",
              "      <td>...</td>\n",
              "      <td>...</td>\n",
              "      <td>...</td>\n",
              "    </tr>\n",
              "    <tr>\n",
              "      <th></th>\n",
              "      <td>...</td>\n",
              "      <td>...</td>\n",
              "      <td>...</td>\n",
              "      <td>...</td>\n",
              "      <td>...</td>\n",
              "      <td>...</td>\n",
              "      <td>...</td>\n",
              "      <td>...</td>\n",
              "      <td>...</td>\n",
              "    </tr>\n",
              "  </tbody>\n",
              "</table>\n",
              "</div>\n",
              "<div>Dask Name: from-delayed, 423 tasks</div>"
            ],
            "text/plain": [
              "Dask DataFrame Structure:\n",
              "                event_time event_type product_id category_id category_code   brand    price user_id user_session\n",
              "npartitions=141                                                                                                 \n",
              "                    object     object      int64       int64        object  object  float64   int64       object\n",
              "                       ...        ...        ...         ...           ...     ...      ...     ...          ...\n",
              "...                    ...        ...        ...         ...           ...     ...      ...     ...          ...\n",
              "                       ...        ...        ...         ...           ...     ...      ...     ...          ...\n",
              "                       ...        ...        ...         ...           ...     ...      ...     ...          ...\n",
              "Dask Name: from-delayed, 423 tasks"
            ]
          },
          "metadata": {
            "tags": []
          },
          "execution_count": 29
        }
      ]
    },
    {
      "cell_type": "code",
      "metadata": {
        "id": "z_q2-zWHm8YY"
      },
      "source": [
        "#Change column names\n",
        "df.columns= config_data[\"columns_names\"]"
      ],
      "execution_count": 35,
      "outputs": []
    },
    {
      "cell_type": "code",
      "metadata": {
        "colab": {
          "base_uri": "https://localhost:8080/"
        },
        "id": "MnxctHsStVBP",
        "outputId": "60f5e147-6040-4720-b583-aaf364153b0c"
      },
      "source": [
        "print(\"columns of files are:\" ,df.columns.values)\n",
        "print(\"columns of YAML are:\" ,config_data['columns'])"
      ],
      "execution_count": 43,
      "outputs": [
        {
          "output_type": "stream",
          "text": [
            "columns of files are: ['event_time' 'event_type' 'product_id' 'category_id' 'category_code'\n",
            " 'brand' 'price' 'user_id' 'user_session']\n",
            "columns of YAML are: ['event_time', 'event_type', 'product_id', 'category_id', 'category_code', 'brand', 'price', 'user_id', 'user_session']\n"
          ],
          "name": "stdout"
        }
      ]
    },
    {
      "cell_type": "code",
      "metadata": {
        "colab": {
          "base_uri": "https://localhost:8080/"
        },
        "id": "5Vvuj_hXurqx",
        "outputId": "7aca806a-ad94-4310-87f2-2e4182802e4a"
      },
      "source": [
        "type(df)"
      ],
      "execution_count": 47,
      "outputs": [
        {
          "output_type": "execute_result",
          "data": {
            "text/plain": [
              "dask.dataframe.core.DataFrame"
            ]
          },
          "metadata": {
            "tags": []
          },
          "execution_count": 47
        }
      ]
    },
    {
      "cell_type": "code",
      "metadata": {
        "id": "2olT0QsJtwlz"
      },
      "source": [
        "#validate the header of the file\n",
        "#util.col_header_val(df.compute(),config_data) THIS code was not able to run because ram problems"
      ],
      "execution_count": null,
      "outputs": []
    },
    {
      "cell_type": "code",
      "metadata": {
        "id": "MxG_2yYLnZUV"
      },
      "source": [
        "#Reduce Memory usage by casting cols dtypes\n",
        "df['event_time'] = df['event_time'].astype(config_data['data_type']['event_time'])\n",
        "df['event_type'] = df['event_type'].astype(config_data['data_type']['event_type'])\n",
        "df['product_id'] = df['product_id'].astype(config_data['data_type']['product_id'])\n",
        "df['category_id'] = df['category_id'].astype(config_data['data_type']['category_id'])\n",
        "df['category_code'] = df['category_code'].astype(config_data['data_type']['category_code'])\n",
        "df['brand'] = df['brand'].astype(config_data['data_type']['brand'])\n",
        "df['price'] = df['price'].astype(config_data['data_type']['price'])\n",
        "df['user_id'] = df['user_id'].astype(config_data['data_type']['user_id'])\n",
        "df['user_session'] = df['user_session'].astype(config_data['data_type']['user_session'])\n"
      ],
      "execution_count": 39,
      "outputs": []
    },
    {
      "cell_type": "code",
      "metadata": {
        "colab": {
          "base_uri": "https://localhost:8080/",
          "height": 292
        },
        "id": "qWx0u1lfpjoD",
        "outputId": "725ef410-b3e8-40b7-8a1d-e43e07e710c3"
      },
      "source": [
        "df"
      ],
      "execution_count": 40,
      "outputs": [
        {
          "output_type": "execute_result",
          "data": {
            "text/html": [
              "<div><strong>Dask DataFrame Structure:</strong></div>\n",
              "<div>\n",
              "<style scoped>\n",
              "    .dataframe tbody tr th:only-of-type {\n",
              "        vertical-align: middle;\n",
              "    }\n",
              "\n",
              "    .dataframe tbody tr th {\n",
              "        vertical-align: top;\n",
              "    }\n",
              "\n",
              "    .dataframe thead th {\n",
              "        text-align: right;\n",
              "    }\n",
              "</style>\n",
              "<table border=\"1\" class=\"dataframe\">\n",
              "  <thead>\n",
              "    <tr style=\"text-align: right;\">\n",
              "      <th></th>\n",
              "      <th>event_time</th>\n",
              "      <th>event_type</th>\n",
              "      <th>product_id</th>\n",
              "      <th>category_id</th>\n",
              "      <th>category_code</th>\n",
              "      <th>brand</th>\n",
              "      <th>price</th>\n",
              "      <th>user_id</th>\n",
              "      <th>user_session</th>\n",
              "    </tr>\n",
              "    <tr>\n",
              "      <th>npartitions=141</th>\n",
              "      <th></th>\n",
              "      <th></th>\n",
              "      <th></th>\n",
              "      <th></th>\n",
              "      <th></th>\n",
              "      <th></th>\n",
              "      <th></th>\n",
              "      <th></th>\n",
              "      <th></th>\n",
              "    </tr>\n",
              "  </thead>\n",
              "  <tbody>\n",
              "    <tr>\n",
              "      <th></th>\n",
              "      <td>datetime64[ns]</td>\n",
              "      <td>object</td>\n",
              "      <td>int16</td>\n",
              "      <td>int16</td>\n",
              "      <td>object</td>\n",
              "      <td>object</td>\n",
              "      <td>float32</td>\n",
              "      <td>int16</td>\n",
              "      <td>object</td>\n",
              "    </tr>\n",
              "    <tr>\n",
              "      <th></th>\n",
              "      <td>...</td>\n",
              "      <td>...</td>\n",
              "      <td>...</td>\n",
              "      <td>...</td>\n",
              "      <td>...</td>\n",
              "      <td>...</td>\n",
              "      <td>...</td>\n",
              "      <td>...</td>\n",
              "      <td>...</td>\n",
              "    </tr>\n",
              "    <tr>\n",
              "      <th>...</th>\n",
              "      <td>...</td>\n",
              "      <td>...</td>\n",
              "      <td>...</td>\n",
              "      <td>...</td>\n",
              "      <td>...</td>\n",
              "      <td>...</td>\n",
              "      <td>...</td>\n",
              "      <td>...</td>\n",
              "      <td>...</td>\n",
              "    </tr>\n",
              "    <tr>\n",
              "      <th></th>\n",
              "      <td>...</td>\n",
              "      <td>...</td>\n",
              "      <td>...</td>\n",
              "      <td>...</td>\n",
              "      <td>...</td>\n",
              "      <td>...</td>\n",
              "      <td>...</td>\n",
              "      <td>...</td>\n",
              "      <td>...</td>\n",
              "    </tr>\n",
              "    <tr>\n",
              "      <th></th>\n",
              "      <td>...</td>\n",
              "      <td>...</td>\n",
              "      <td>...</td>\n",
              "      <td>...</td>\n",
              "      <td>...</td>\n",
              "      <td>...</td>\n",
              "      <td>...</td>\n",
              "      <td>...</td>\n",
              "      <td>...</td>\n",
              "    </tr>\n",
              "  </tbody>\n",
              "</table>\n",
              "</div>\n",
              "<div>Dask Name: assign, 5640 tasks</div>"
            ],
            "text/plain": [
              "Dask DataFrame Structure:\n",
              "                     event_time event_type product_id category_id category_code   brand    price user_id user_session\n",
              "npartitions=141                                                                                                      \n",
              "                 datetime64[ns]     object      int16       int16        object  object  float32   int16       object\n",
              "                            ...        ...        ...         ...           ...     ...      ...     ...          ...\n",
              "...                         ...        ...        ...         ...           ...     ...      ...     ...          ...\n",
              "                            ...        ...        ...         ...           ...     ...      ...     ...          ...\n",
              "                            ...        ...        ...         ...           ...     ...      ...     ...          ...\n",
              "Dask Name: assign, 5640 tasks"
            ]
          },
          "metadata": {
            "tags": []
          },
          "execution_count": 40
        }
      ]
    },
    {
      "cell_type": "code",
      "metadata": {
        "colab": {
          "base_uri": "https://localhost:8080/"
        },
        "id": "6mAexn3Ypmhr",
        "outputId": "120fc4ab-ed49-4417-e8f5-c0b5bad6ef69"
      },
      "source": [
        "#Drop missing values\n",
        "%time df= df.dropna()\n",
        "\n",
        "#Save clean data in the repository\n",
        "df.to_parquet('df.parquet.gzip', compression='gzip')"
      ],
      "execution_count": 41,
      "outputs": [
        {
          "output_type": "stream",
          "text": [
            "CPU times: user 11.8 ms, sys: 970 µs, total: 12.8 ms\n",
            "Wall time: 24.6 ms\n"
          ],
          "name": "stdout"
        }
      ]
    }
  ]
}